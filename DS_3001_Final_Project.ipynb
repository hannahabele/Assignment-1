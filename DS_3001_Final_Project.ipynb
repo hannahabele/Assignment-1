{
  "nbformat": 4,
  "nbformat_minor": 0,
  "metadata": {
    "colab": {
      "provenance": [],
      "include_colab_link": true
    },
    "kernelspec": {
      "name": "python3",
      "display_name": "Python 3"
    },
    "language_info": {
      "name": "python"
    }
  },
  "cells": [
    {
      "cell_type": "markdown",
      "metadata": {
        "id": "view-in-github",
        "colab_type": "text"
      },
      "source": [
        "<a href=\"https://colab.research.google.com/github/hannahabele/Assignment-1/blob/main/DS_3001_Final_Project.ipynb\" target=\"_parent\"><img src=\"https://colab.research.google.com/assets/colab-badge.svg\" alt=\"Open In Colab\"/></a>"
      ]
    },
    {
      "cell_type": "markdown",
      "source": [
        "# DS 3001 Final Project: Assessing Stroke Risk"
      ],
      "metadata": {
        "id": "GO2ghkbHtdLG"
      }
    },
    {
      "cell_type": "markdown",
      "source": [
        "## Written Analysis"
      ],
      "metadata": {
        "id": "pMN-KCxdzQ-0"
      }
    },
    {
      "cell_type": "markdown",
      "source": [
        "**1. What is in your data?**\n",
        "\n",
        "https://www.kaggle.com/datasets/mahatiratusher/stroke-risk-prediction-dataset\n",
        "Our dataset examines key risk factors that contribute to a person’s likelihood of experiencing a stroke. The studied variables include chest pain, shortness of breath, irregular heartbeat, fatigue, dizziness, swelling (edema), pain in the neck/jaw/shoulder/back, excessive sweating, persistent cough, and nausea/vomiting. These factors were selected through analysis of leading medical authorities such as the American Stroke Association, Mayo Clinic, Cleveland Clinic, Harrison’s Principles of Internal Medicine, Stroke Prevention, Treatment, and Rehabilitation, The Stroke Book, and the World Health Organization. Each of the 7000 records represents an individual’s medical symptoms and risk assessment, with binary indicators (1 = symptom present, 0 = symptom absent). Age is also included as a critical factor, given that an increase in age is strongly associated with a heightened risk of stroke.\n",
        "\n",
        "\n",
        "\n",
        "**2. How will these data be useful for studying the phenomenon you're interested in?**\n",
        "\n",
        "According to UTMB health, stroke is the fifth leading cause of death for US citizens, and is a prominent cause of long-term disability [1]. Since stroke is such a prevalent cause of health issues in the US, the phenomenon we are interested in is calculating the risk of stroke based on the presence or absence of the following symptoms: chest pain, shortness of breath, irregular heartbeat, fatigue and weakness, dizziness, swelling (edema), pain in neck/shoulder/back, excessive sweating, persistent cough, nausea/vomiting, high blood pressure, chest discomfort (activity), cold hands/feet, snoring/sleep apnea, anxiety/feeling of doom, and age. Stroke symptoms are often overlooked or attributed to other health issues, leading to delayed diagnosis, inadequate preventative measures, and increased risk of severe complications or fatal outcomes [2]. According to the CDC, stroke prevalence has increased by 15.7% for adults aged 45 to 64 and 14.6% for adults aged 18 to 44 from 2011 to 2023 [3]. As the age of onset for strokes is becoming younger and younger over time, this study becomes increasingly relevant to American health. This dataset will be useful for examining the risk of stroke by age group, the risk factors that are majorly present in the American population, and the correlation between each risk factor and the overall risk of stroke, which enables us to determine which risk factor is most correlated with incidence of stroke. Through this analysis, we hope to identify a better way to quantify the risk of stroke, enhance our understanding of its causes, and perhaps provide insight into ways we can better combat it.\n",
        "\n",
        "\n",
        "\n",
        "**3. What are the challenges you've resolved or expect to face in using them?**\n",
        "\n",
        "There are several challenges that we have resolved when cleaning our data. All the variables initially presented as “0,1.” First, we changed that to “Y,N” in order to more easily interpret our variables (as the “0,1” represented “Y,N”). This will make it easier to analyze our data in the future. Next, we needed to ensure that the code was able to create a “count” for the binary variables, so that we are able to perform analysis such as calculating percentages of the symptoms likelihood to impact having a stroke.\n",
        "We anticipate several future challenges. First, we may need to alter the “age” variable when creating visualizations and descriptions, as it is currently an integer (float variable), while all other variables are binary variables. We may need to change the “age” variable to a string if needed. Second, we anticipate that several of the variables will overlap. For example, the variable “anxiety and feeling of doom” may closely relate to the variable “increased heart rate” or “high blood pressure,” as anxiety causes tension, sweating, increased blood pressure, and increased heart rate. During our analysis, it may be difficult to discern which variables independently contribute to increasing the likelihood of having a stroke."
      ],
      "metadata": {
        "id": "MKZ8_NXfzTVG"
      }
    },
    {
      "cell_type": "markdown",
      "source": [
        "#### References"
      ],
      "metadata": {
        "id": "avws2JXOzppj"
      }
    },
    {
      "cell_type": "markdown",
      "source": [
        "* [1]: https://www.utmbhealth.com/services/neurology/procedures-conditions/stroke/stroke-facts\n",
        "\n",
        "* [2:] https://www.penningtonslaw.com/news-publications/latest-news/2023/the-consequences-of-a-delayed-or-missed-diagnosis-of-a-stroke#:~:text=If%20there%20is%20a%20delay,speech%2C%20mobility%20and%20personality%20changes.\n",
        "\n",
        "* [3]: https://healthmatters.nyp.org/what-to-know-about-the-rising-stroke-rates-in-younger-people/#:~:text=The%20rates%20of%20stroke%20are,Joshua%20Willey"
      ],
      "metadata": {
        "id": "o4_6GNdAz8lq"
      }
    },
    {
      "cell_type": "code",
      "source": [
        "# import necessary libraries\n",
        "import numpy as np\n",
        "import pandas as pd\n",
        "import matplotlib.pyplot as plt\n",
        "import seaborn as sns"
      ],
      "metadata": {
        "id": "uxUU1UoJtwGm"
      },
      "execution_count": 9,
      "outputs": []
    },
    {
      "cell_type": "code",
      "source": [
        "# load in data\n",
        "df = pd.read_csv('https://raw.githubusercontent.com/kpunsalan8/DS-3001-Final-Project/refs/heads/main/stroke_risk_dataset.csv',low_memory=False)"
      ],
      "metadata": {
        "id": "0F09xsMPt1rK"
      },
      "execution_count": 10,
      "outputs": []
    },
    {
      "cell_type": "code",
      "source": [
        "df.head()"
      ],
      "metadata": {
        "colab": {
          "base_uri": "https://localhost:8080/",
          "height": 261
        },
        "id": "6JsMh-VzuK29",
        "outputId": "932d5858-ec72-48b1-ffdf-1c07f14d8112"
      },
      "execution_count": 11,
      "outputs": [
        {
          "output_type": "execute_result",
          "data": {
            "text/plain": [
              "   Chest Pain  Shortness of Breath  Irregular Heartbeat  Fatigue & Weakness  \\\n",
              "0           0                    1                    1                   1   \n",
              "1           0                    0                    1                   0   \n",
              "2           1                    0                    0                   1   \n",
              "3           1                    0                    1                   1   \n",
              "4           0                    0                    1                   0   \n",
              "\n",
              "   Dizziness  Swelling (Edema)  Pain in Neck/Jaw/Shoulder/Back  \\\n",
              "0          0                 0                               0   \n",
              "1          0                 1                               0   \n",
              "2          1                 1                               0   \n",
              "3          0                 1                               1   \n",
              "4          0                 1                               0   \n",
              "\n",
              "   Excessive Sweating  Persistent Cough  Nausea/Vomiting  High Blood Pressure  \\\n",
              "0                   1                 1                1                    0   \n",
              "1                   0                 0                0                    1   \n",
              "2                   0                 1                0                    0   \n",
              "3                   1                 1                1                    1   \n",
              "4                   1                 0                1                    1   \n",
              "\n",
              "   Chest Discomfort (Activity)  Cold Hands/Feet  Snoring/Sleep Apnea  \\\n",
              "0                            1                1                    0   \n",
              "1                            0                1                    1   \n",
              "2                            0                0                    1   \n",
              "3                            0                0                    0   \n",
              "4                            0                0                    1   \n",
              "\n",
              "   Anxiety/Feeling of Doom  Age  Stroke Risk (%)  At Risk (Binary)  \n",
              "0                        0   54             58.0                 1  \n",
              "1                        0   49             40.5                 0  \n",
              "2                        0   62             52.0                 1  \n",
              "3                        0   48             60.0                 1  \n",
              "4                        1   61             56.5                 1  "
            ],
            "text/html": [
              "\n",
              "  <div id=\"df-11f64020-7e5f-4f40-9e1e-24c3fabed6a6\" class=\"colab-df-container\">\n",
              "    <div>\n",
              "<style scoped>\n",
              "    .dataframe tbody tr th:only-of-type {\n",
              "        vertical-align: middle;\n",
              "    }\n",
              "\n",
              "    .dataframe tbody tr th {\n",
              "        vertical-align: top;\n",
              "    }\n",
              "\n",
              "    .dataframe thead th {\n",
              "        text-align: right;\n",
              "    }\n",
              "</style>\n",
              "<table border=\"1\" class=\"dataframe\">\n",
              "  <thead>\n",
              "    <tr style=\"text-align: right;\">\n",
              "      <th></th>\n",
              "      <th>Chest Pain</th>\n",
              "      <th>Shortness of Breath</th>\n",
              "      <th>Irregular Heartbeat</th>\n",
              "      <th>Fatigue &amp; Weakness</th>\n",
              "      <th>Dizziness</th>\n",
              "      <th>Swelling (Edema)</th>\n",
              "      <th>Pain in Neck/Jaw/Shoulder/Back</th>\n",
              "      <th>Excessive Sweating</th>\n",
              "      <th>Persistent Cough</th>\n",
              "      <th>Nausea/Vomiting</th>\n",
              "      <th>High Blood Pressure</th>\n",
              "      <th>Chest Discomfort (Activity)</th>\n",
              "      <th>Cold Hands/Feet</th>\n",
              "      <th>Snoring/Sleep Apnea</th>\n",
              "      <th>Anxiety/Feeling of Doom</th>\n",
              "      <th>Age</th>\n",
              "      <th>Stroke Risk (%)</th>\n",
              "      <th>At Risk (Binary)</th>\n",
              "    </tr>\n",
              "  </thead>\n",
              "  <tbody>\n",
              "    <tr>\n",
              "      <th>0</th>\n",
              "      <td>0</td>\n",
              "      <td>1</td>\n",
              "      <td>1</td>\n",
              "      <td>1</td>\n",
              "      <td>0</td>\n",
              "      <td>0</td>\n",
              "      <td>0</td>\n",
              "      <td>1</td>\n",
              "      <td>1</td>\n",
              "      <td>1</td>\n",
              "      <td>0</td>\n",
              "      <td>1</td>\n",
              "      <td>1</td>\n",
              "      <td>0</td>\n",
              "      <td>0</td>\n",
              "      <td>54</td>\n",
              "      <td>58.0</td>\n",
              "      <td>1</td>\n",
              "    </tr>\n",
              "    <tr>\n",
              "      <th>1</th>\n",
              "      <td>0</td>\n",
              "      <td>0</td>\n",
              "      <td>1</td>\n",
              "      <td>0</td>\n",
              "      <td>0</td>\n",
              "      <td>1</td>\n",
              "      <td>0</td>\n",
              "      <td>0</td>\n",
              "      <td>0</td>\n",
              "      <td>0</td>\n",
              "      <td>1</td>\n",
              "      <td>0</td>\n",
              "      <td>1</td>\n",
              "      <td>1</td>\n",
              "      <td>0</td>\n",
              "      <td>49</td>\n",
              "      <td>40.5</td>\n",
              "      <td>0</td>\n",
              "    </tr>\n",
              "    <tr>\n",
              "      <th>2</th>\n",
              "      <td>1</td>\n",
              "      <td>0</td>\n",
              "      <td>0</td>\n",
              "      <td>1</td>\n",
              "      <td>1</td>\n",
              "      <td>1</td>\n",
              "      <td>0</td>\n",
              "      <td>0</td>\n",
              "      <td>1</td>\n",
              "      <td>0</td>\n",
              "      <td>0</td>\n",
              "      <td>0</td>\n",
              "      <td>0</td>\n",
              "      <td>1</td>\n",
              "      <td>0</td>\n",
              "      <td>62</td>\n",
              "      <td>52.0</td>\n",
              "      <td>1</td>\n",
              "    </tr>\n",
              "    <tr>\n",
              "      <th>3</th>\n",
              "      <td>1</td>\n",
              "      <td>0</td>\n",
              "      <td>1</td>\n",
              "      <td>1</td>\n",
              "      <td>0</td>\n",
              "      <td>1</td>\n",
              "      <td>1</td>\n",
              "      <td>1</td>\n",
              "      <td>1</td>\n",
              "      <td>1</td>\n",
              "      <td>1</td>\n",
              "      <td>0</td>\n",
              "      <td>0</td>\n",
              "      <td>0</td>\n",
              "      <td>0</td>\n",
              "      <td>48</td>\n",
              "      <td>60.0</td>\n",
              "      <td>1</td>\n",
              "    </tr>\n",
              "    <tr>\n",
              "      <th>4</th>\n",
              "      <td>0</td>\n",
              "      <td>0</td>\n",
              "      <td>1</td>\n",
              "      <td>0</td>\n",
              "      <td>0</td>\n",
              "      <td>1</td>\n",
              "      <td>0</td>\n",
              "      <td>1</td>\n",
              "      <td>0</td>\n",
              "      <td>1</td>\n",
              "      <td>1</td>\n",
              "      <td>0</td>\n",
              "      <td>0</td>\n",
              "      <td>1</td>\n",
              "      <td>1</td>\n",
              "      <td>61</td>\n",
              "      <td>56.5</td>\n",
              "      <td>1</td>\n",
              "    </tr>\n",
              "  </tbody>\n",
              "</table>\n",
              "</div>\n",
              "    <div class=\"colab-df-buttons\">\n",
              "\n",
              "  <div class=\"colab-df-container\">\n",
              "    <button class=\"colab-df-convert\" onclick=\"convertToInteractive('df-11f64020-7e5f-4f40-9e1e-24c3fabed6a6')\"\n",
              "            title=\"Convert this dataframe to an interactive table.\"\n",
              "            style=\"display:none;\">\n",
              "\n",
              "  <svg xmlns=\"http://www.w3.org/2000/svg\" height=\"24px\" viewBox=\"0 -960 960 960\">\n",
              "    <path d=\"M120-120v-720h720v720H120Zm60-500h600v-160H180v160Zm220 220h160v-160H400v160Zm0 220h160v-160H400v160ZM180-400h160v-160H180v160Zm440 0h160v-160H620v160ZM180-180h160v-160H180v160Zm440 0h160v-160H620v160Z\"/>\n",
              "  </svg>\n",
              "    </button>\n",
              "\n",
              "  <style>\n",
              "    .colab-df-container {\n",
              "      display:flex;\n",
              "      gap: 12px;\n",
              "    }\n",
              "\n",
              "    .colab-df-convert {\n",
              "      background-color: #E8F0FE;\n",
              "      border: none;\n",
              "      border-radius: 50%;\n",
              "      cursor: pointer;\n",
              "      display: none;\n",
              "      fill: #1967D2;\n",
              "      height: 32px;\n",
              "      padding: 0 0 0 0;\n",
              "      width: 32px;\n",
              "    }\n",
              "\n",
              "    .colab-df-convert:hover {\n",
              "      background-color: #E2EBFA;\n",
              "      box-shadow: 0px 1px 2px rgba(60, 64, 67, 0.3), 0px 1px 3px 1px rgba(60, 64, 67, 0.15);\n",
              "      fill: #174EA6;\n",
              "    }\n",
              "\n",
              "    .colab-df-buttons div {\n",
              "      margin-bottom: 4px;\n",
              "    }\n",
              "\n",
              "    [theme=dark] .colab-df-convert {\n",
              "      background-color: #3B4455;\n",
              "      fill: #D2E3FC;\n",
              "    }\n",
              "\n",
              "    [theme=dark] .colab-df-convert:hover {\n",
              "      background-color: #434B5C;\n",
              "      box-shadow: 0px 1px 3px 1px rgba(0, 0, 0, 0.15);\n",
              "      filter: drop-shadow(0px 1px 2px rgba(0, 0, 0, 0.3));\n",
              "      fill: #FFFFFF;\n",
              "    }\n",
              "  </style>\n",
              "\n",
              "    <script>\n",
              "      const buttonEl =\n",
              "        document.querySelector('#df-11f64020-7e5f-4f40-9e1e-24c3fabed6a6 button.colab-df-convert');\n",
              "      buttonEl.style.display =\n",
              "        google.colab.kernel.accessAllowed ? 'block' : 'none';\n",
              "\n",
              "      async function convertToInteractive(key) {\n",
              "        const element = document.querySelector('#df-11f64020-7e5f-4f40-9e1e-24c3fabed6a6');\n",
              "        const dataTable =\n",
              "          await google.colab.kernel.invokeFunction('convertToInteractive',\n",
              "                                                    [key], {});\n",
              "        if (!dataTable) return;\n",
              "\n",
              "        const docLinkHtml = 'Like what you see? Visit the ' +\n",
              "          '<a target=\"_blank\" href=https://colab.research.google.com/notebooks/data_table.ipynb>data table notebook</a>'\n",
              "          + ' to learn more about interactive tables.';\n",
              "        element.innerHTML = '';\n",
              "        dataTable['output_type'] = 'display_data';\n",
              "        await google.colab.output.renderOutput(dataTable, element);\n",
              "        const docLink = document.createElement('div');\n",
              "        docLink.innerHTML = docLinkHtml;\n",
              "        element.appendChild(docLink);\n",
              "      }\n",
              "    </script>\n",
              "  </div>\n",
              "\n",
              "\n",
              "<div id=\"df-aaef52d4-308c-40ea-835a-35797be91da1\">\n",
              "  <button class=\"colab-df-quickchart\" onclick=\"quickchart('df-aaef52d4-308c-40ea-835a-35797be91da1')\"\n",
              "            title=\"Suggest charts\"\n",
              "            style=\"display:none;\">\n",
              "\n",
              "<svg xmlns=\"http://www.w3.org/2000/svg\" height=\"24px\"viewBox=\"0 0 24 24\"\n",
              "     width=\"24px\">\n",
              "    <g>\n",
              "        <path d=\"M19 3H5c-1.1 0-2 .9-2 2v14c0 1.1.9 2 2 2h14c1.1 0 2-.9 2-2V5c0-1.1-.9-2-2-2zM9 17H7v-7h2v7zm4 0h-2V7h2v10zm4 0h-2v-4h2v4z\"/>\n",
              "    </g>\n",
              "</svg>\n",
              "  </button>\n",
              "\n",
              "<style>\n",
              "  .colab-df-quickchart {\n",
              "      --bg-color: #E8F0FE;\n",
              "      --fill-color: #1967D2;\n",
              "      --hover-bg-color: #E2EBFA;\n",
              "      --hover-fill-color: #174EA6;\n",
              "      --disabled-fill-color: #AAA;\n",
              "      --disabled-bg-color: #DDD;\n",
              "  }\n",
              "\n",
              "  [theme=dark] .colab-df-quickchart {\n",
              "      --bg-color: #3B4455;\n",
              "      --fill-color: #D2E3FC;\n",
              "      --hover-bg-color: #434B5C;\n",
              "      --hover-fill-color: #FFFFFF;\n",
              "      --disabled-bg-color: #3B4455;\n",
              "      --disabled-fill-color: #666;\n",
              "  }\n",
              "\n",
              "  .colab-df-quickchart {\n",
              "    background-color: var(--bg-color);\n",
              "    border: none;\n",
              "    border-radius: 50%;\n",
              "    cursor: pointer;\n",
              "    display: none;\n",
              "    fill: var(--fill-color);\n",
              "    height: 32px;\n",
              "    padding: 0;\n",
              "    width: 32px;\n",
              "  }\n",
              "\n",
              "  .colab-df-quickchart:hover {\n",
              "    background-color: var(--hover-bg-color);\n",
              "    box-shadow: 0 1px 2px rgba(60, 64, 67, 0.3), 0 1px 3px 1px rgba(60, 64, 67, 0.15);\n",
              "    fill: var(--button-hover-fill-color);\n",
              "  }\n",
              "\n",
              "  .colab-df-quickchart-complete:disabled,\n",
              "  .colab-df-quickchart-complete:disabled:hover {\n",
              "    background-color: var(--disabled-bg-color);\n",
              "    fill: var(--disabled-fill-color);\n",
              "    box-shadow: none;\n",
              "  }\n",
              "\n",
              "  .colab-df-spinner {\n",
              "    border: 2px solid var(--fill-color);\n",
              "    border-color: transparent;\n",
              "    border-bottom-color: var(--fill-color);\n",
              "    animation:\n",
              "      spin 1s steps(1) infinite;\n",
              "  }\n",
              "\n",
              "  @keyframes spin {\n",
              "    0% {\n",
              "      border-color: transparent;\n",
              "      border-bottom-color: var(--fill-color);\n",
              "      border-left-color: var(--fill-color);\n",
              "    }\n",
              "    20% {\n",
              "      border-color: transparent;\n",
              "      border-left-color: var(--fill-color);\n",
              "      border-top-color: var(--fill-color);\n",
              "    }\n",
              "    30% {\n",
              "      border-color: transparent;\n",
              "      border-left-color: var(--fill-color);\n",
              "      border-top-color: var(--fill-color);\n",
              "      border-right-color: var(--fill-color);\n",
              "    }\n",
              "    40% {\n",
              "      border-color: transparent;\n",
              "      border-right-color: var(--fill-color);\n",
              "      border-top-color: var(--fill-color);\n",
              "    }\n",
              "    60% {\n",
              "      border-color: transparent;\n",
              "      border-right-color: var(--fill-color);\n",
              "    }\n",
              "    80% {\n",
              "      border-color: transparent;\n",
              "      border-right-color: var(--fill-color);\n",
              "      border-bottom-color: var(--fill-color);\n",
              "    }\n",
              "    90% {\n",
              "      border-color: transparent;\n",
              "      border-bottom-color: var(--fill-color);\n",
              "    }\n",
              "  }\n",
              "</style>\n",
              "\n",
              "  <script>\n",
              "    async function quickchart(key) {\n",
              "      const quickchartButtonEl =\n",
              "        document.querySelector('#' + key + ' button');\n",
              "      quickchartButtonEl.disabled = true;  // To prevent multiple clicks.\n",
              "      quickchartButtonEl.classList.add('colab-df-spinner');\n",
              "      try {\n",
              "        const charts = await google.colab.kernel.invokeFunction(\n",
              "            'suggestCharts', [key], {});\n",
              "      } catch (error) {\n",
              "        console.error('Error during call to suggestCharts:', error);\n",
              "      }\n",
              "      quickchartButtonEl.classList.remove('colab-df-spinner');\n",
              "      quickchartButtonEl.classList.add('colab-df-quickchart-complete');\n",
              "    }\n",
              "    (() => {\n",
              "      let quickchartButtonEl =\n",
              "        document.querySelector('#df-aaef52d4-308c-40ea-835a-35797be91da1 button');\n",
              "      quickchartButtonEl.style.display =\n",
              "        google.colab.kernel.accessAllowed ? 'block' : 'none';\n",
              "    })();\n",
              "  </script>\n",
              "</div>\n",
              "\n",
              "    </div>\n",
              "  </div>\n"
            ],
            "application/vnd.google.colaboratory.intrinsic+json": {
              "type": "dataframe",
              "variable_name": "df",
              "summary": "{\n  \"name\": \"df\",\n  \"rows\": 70000,\n  \"fields\": [\n    {\n      \"column\": \"Chest Pain\",\n      \"properties\": {\n        \"dtype\": \"number\",\n        \"std\": 0,\n        \"min\": 0,\n        \"max\": 1,\n        \"num_unique_values\": 2,\n        \"samples\": [\n          1,\n          0\n        ],\n        \"semantic_type\": \"\",\n        \"description\": \"\"\n      }\n    },\n    {\n      \"column\": \"Shortness of Breath\",\n      \"properties\": {\n        \"dtype\": \"number\",\n        \"std\": 0,\n        \"min\": 0,\n        \"max\": 1,\n        \"num_unique_values\": 2,\n        \"samples\": [\n          0,\n          1\n        ],\n        \"semantic_type\": \"\",\n        \"description\": \"\"\n      }\n    },\n    {\n      \"column\": \"Irregular Heartbeat\",\n      \"properties\": {\n        \"dtype\": \"number\",\n        \"std\": 0,\n        \"min\": 0,\n        \"max\": 1,\n        \"num_unique_values\": 2,\n        \"samples\": [\n          0,\n          1\n        ],\n        \"semantic_type\": \"\",\n        \"description\": \"\"\n      }\n    },\n    {\n      \"column\": \"Fatigue & Weakness\",\n      \"properties\": {\n        \"dtype\": \"number\",\n        \"std\": 0,\n        \"min\": 0,\n        \"max\": 1,\n        \"num_unique_values\": 2,\n        \"samples\": [\n          0,\n          1\n        ],\n        \"semantic_type\": \"\",\n        \"description\": \"\"\n      }\n    },\n    {\n      \"column\": \"Dizziness\",\n      \"properties\": {\n        \"dtype\": \"number\",\n        \"std\": 0,\n        \"min\": 0,\n        \"max\": 1,\n        \"num_unique_values\": 2,\n        \"samples\": [\n          1,\n          0\n        ],\n        \"semantic_type\": \"\",\n        \"description\": \"\"\n      }\n    },\n    {\n      \"column\": \"Swelling (Edema)\",\n      \"properties\": {\n        \"dtype\": \"number\",\n        \"std\": 0,\n        \"min\": 0,\n        \"max\": 1,\n        \"num_unique_values\": 2,\n        \"samples\": [\n          1,\n          0\n        ],\n        \"semantic_type\": \"\",\n        \"description\": \"\"\n      }\n    },\n    {\n      \"column\": \"Pain in Neck/Jaw/Shoulder/Back\",\n      \"properties\": {\n        \"dtype\": \"number\",\n        \"std\": 0,\n        \"min\": 0,\n        \"max\": 1,\n        \"num_unique_values\": 2,\n        \"samples\": [\n          1,\n          0\n        ],\n        \"semantic_type\": \"\",\n        \"description\": \"\"\n      }\n    },\n    {\n      \"column\": \"Excessive Sweating\",\n      \"properties\": {\n        \"dtype\": \"number\",\n        \"std\": 0,\n        \"min\": 0,\n        \"max\": 1,\n        \"num_unique_values\": 2,\n        \"samples\": [\n          0,\n          1\n        ],\n        \"semantic_type\": \"\",\n        \"description\": \"\"\n      }\n    },\n    {\n      \"column\": \"Persistent Cough\",\n      \"properties\": {\n        \"dtype\": \"number\",\n        \"std\": 0,\n        \"min\": 0,\n        \"max\": 1,\n        \"num_unique_values\": 2,\n        \"samples\": [\n          0,\n          1\n        ],\n        \"semantic_type\": \"\",\n        \"description\": \"\"\n      }\n    },\n    {\n      \"column\": \"Nausea/Vomiting\",\n      \"properties\": {\n        \"dtype\": \"number\",\n        \"std\": 0,\n        \"min\": 0,\n        \"max\": 1,\n        \"num_unique_values\": 2,\n        \"samples\": [\n          0,\n          1\n        ],\n        \"semantic_type\": \"\",\n        \"description\": \"\"\n      }\n    },\n    {\n      \"column\": \"High Blood Pressure\",\n      \"properties\": {\n        \"dtype\": \"number\",\n        \"std\": 0,\n        \"min\": 0,\n        \"max\": 1,\n        \"num_unique_values\": 2,\n        \"samples\": [\n          1,\n          0\n        ],\n        \"semantic_type\": \"\",\n        \"description\": \"\"\n      }\n    },\n    {\n      \"column\": \"Chest Discomfort (Activity)\",\n      \"properties\": {\n        \"dtype\": \"number\",\n        \"std\": 0,\n        \"min\": 0,\n        \"max\": 1,\n        \"num_unique_values\": 2,\n        \"samples\": [\n          0,\n          1\n        ],\n        \"semantic_type\": \"\",\n        \"description\": \"\"\n      }\n    },\n    {\n      \"column\": \"Cold Hands/Feet\",\n      \"properties\": {\n        \"dtype\": \"number\",\n        \"std\": 0,\n        \"min\": 0,\n        \"max\": 1,\n        \"num_unique_values\": 2,\n        \"samples\": [\n          0,\n          1\n        ],\n        \"semantic_type\": \"\",\n        \"description\": \"\"\n      }\n    },\n    {\n      \"column\": \"Snoring/Sleep Apnea\",\n      \"properties\": {\n        \"dtype\": \"number\",\n        \"std\": 0,\n        \"min\": 0,\n        \"max\": 1,\n        \"num_unique_values\": 2,\n        \"samples\": [\n          1,\n          0\n        ],\n        \"semantic_type\": \"\",\n        \"description\": \"\"\n      }\n    },\n    {\n      \"column\": \"Anxiety/Feeling of Doom\",\n      \"properties\": {\n        \"dtype\": \"number\",\n        \"std\": 0,\n        \"min\": 0,\n        \"max\": 1,\n        \"num_unique_values\": 2,\n        \"samples\": [\n          1,\n          0\n        ],\n        \"semantic_type\": \"\",\n        \"description\": \"\"\n      }\n    },\n    {\n      \"column\": \"Age\",\n      \"properties\": {\n        \"dtype\": \"number\",\n        \"std\": 21,\n        \"min\": 18,\n        \"max\": 90,\n        \"num_unique_values\": 73,\n        \"samples\": [\n          61,\n          33\n        ],\n        \"semantic_type\": \"\",\n        \"description\": \"\"\n      }\n    },\n    {\n      \"column\": \"Stroke Risk (%)\",\n      \"properties\": {\n        \"dtype\": \"number\",\n        \"std\": 14.300898438329657,\n        \"min\": 5.0,\n        \"max\": 100.0,\n        \"num_unique_values\": 183,\n        \"samples\": [\n          58.5,\n          46.5\n        ],\n        \"semantic_type\": \"\",\n        \"description\": \"\"\n      }\n    },\n    {\n      \"column\": \"At Risk (Binary)\",\n      \"properties\": {\n        \"dtype\": \"number\",\n        \"std\": 0,\n        \"min\": 0,\n        \"max\": 1,\n        \"num_unique_values\": 2,\n        \"samples\": [\n          0,\n          1\n        ],\n        \"semantic_type\": \"\",\n        \"description\": \"\"\n      }\n    }\n  ]\n}"
            }
          },
          "metadata": {},
          "execution_count": 11
        }
      ]
    },
    {
      "cell_type": "code",
      "source": [
        "df['Chest Pain'] = df['Chest Pain'].map({0: 'N', 1: 'Y'})\n",
        "print(df['Chest Pain'])"
      ],
      "metadata": {
        "id": "j1m-Dm8DwIY5",
        "outputId": "0ce8ffef-6051-4c65-d5e8-d55316b0fa11",
        "colab": {
          "base_uri": "https://localhost:8080/"
        }
      },
      "execution_count": 12,
      "outputs": [
        {
          "output_type": "stream",
          "name": "stdout",
          "text": [
            "0        N\n",
            "1        N\n",
            "2        Y\n",
            "3        Y\n",
            "4        N\n",
            "        ..\n",
            "69995    Y\n",
            "69996    N\n",
            "69997    Y\n",
            "69998    N\n",
            "69999    N\n",
            "Name: Chest Pain, Length: 70000, dtype: object\n"
          ]
        }
      ]
    },
    {
      "cell_type": "code",
      "source": [
        "df['Shortness of Breath'] = df['Shortness of Breath'].map({0: 'N', 1: 'Y'})\n",
        "print(df['Shortness of Breath'])"
      ],
      "metadata": {
        "id": "BAyYeqd2wxIM",
        "outputId": "5b0ea19b-bb20-4dbc-b9c3-b9ee76baa216",
        "colab": {
          "base_uri": "https://localhost:8080/"
        }
      },
      "execution_count": 13,
      "outputs": [
        {
          "output_type": "stream",
          "name": "stdout",
          "text": [
            "0        Y\n",
            "1        N\n",
            "2        N\n",
            "3        N\n",
            "4        N\n",
            "        ..\n",
            "69995    N\n",
            "69996    N\n",
            "69997    Y\n",
            "69998    Y\n",
            "69999    Y\n",
            "Name: Shortness of Breath, Length: 70000, dtype: object\n"
          ]
        }
      ]
    },
    {
      "cell_type": "code",
      "source": [
        "df['Irregular Heartbeat'] = df['Irregular Heartbeat'].map({0: 'N', 1: 'Y'})\n",
        "print(df['Irregular Heartbeat'])"
      ],
      "metadata": {
        "id": "k8qDMdXTwxlV",
        "outputId": "78636b43-db76-4708-eb86-a1244a7e0f72",
        "colab": {
          "base_uri": "https://localhost:8080/"
        }
      },
      "execution_count": 14,
      "outputs": [
        {
          "output_type": "stream",
          "name": "stdout",
          "text": [
            "0        Y\n",
            "1        Y\n",
            "2        N\n",
            "3        Y\n",
            "4        Y\n",
            "        ..\n",
            "69995    N\n",
            "69996    N\n",
            "69997    N\n",
            "69998    Y\n",
            "69999    N\n",
            "Name: Irregular Heartbeat, Length: 70000, dtype: object\n"
          ]
        }
      ]
    },
    {
      "cell_type": "code",
      "source": [
        "df['Fatigue & Weakness'] = df['Fatigue & Weakness'].map({0: 'N', 1: 'Y'})\n",
        "print(df['Fatigue & Weakness'])"
      ],
      "metadata": {
        "id": "T3__5Jtbwx4G",
        "outputId": "dba2d2bd-a2ca-4c17-cd39-b741ac2556e5",
        "colab": {
          "base_uri": "https://localhost:8080/"
        }
      },
      "execution_count": 15,
      "outputs": [
        {
          "output_type": "stream",
          "name": "stdout",
          "text": [
            "0        Y\n",
            "1        N\n",
            "2        Y\n",
            "3        Y\n",
            "4        N\n",
            "        ..\n",
            "69995    N\n",
            "69996    Y\n",
            "69997    Y\n",
            "69998    Y\n",
            "69999    N\n",
            "Name: Fatigue & Weakness, Length: 70000, dtype: object\n"
          ]
        }
      ]
    },
    {
      "cell_type": "code",
      "source": [
        "df['Dizziness'] = df['Dizziness'].map({0: 'N', 1: 'Y'})\n",
        "print(df['Dizziness'])"
      ],
      "metadata": {
        "id": "CFNKZyeXwyNu",
        "outputId": "6c1fb738-23ee-48ee-e9a9-445df773975f",
        "colab": {
          "base_uri": "https://localhost:8080/"
        }
      },
      "execution_count": 16,
      "outputs": [
        {
          "output_type": "stream",
          "name": "stdout",
          "text": [
            "0        N\n",
            "1        N\n",
            "2        Y\n",
            "3        N\n",
            "4        N\n",
            "        ..\n",
            "69995    N\n",
            "69996    N\n",
            "69997    Y\n",
            "69998    Y\n",
            "69999    N\n",
            "Name: Dizziness, Length: 70000, dtype: object\n"
          ]
        }
      ]
    },
    {
      "cell_type": "code",
      "source": [
        "df['Swelling (Edema)'] = df['Swelling (Edema)'].map({0: 'N', 1: 'Y'})\n",
        "print(df['Swelling (Edema)'])"
      ],
      "metadata": {
        "id": "sAnpmz33xK3b",
        "outputId": "b2c4dd17-0c60-4857-b69e-939fd5dac4d2",
        "colab": {
          "base_uri": "https://localhost:8080/"
        }
      },
      "execution_count": 17,
      "outputs": [
        {
          "output_type": "stream",
          "name": "stdout",
          "text": [
            "0        N\n",
            "1        Y\n",
            "2        Y\n",
            "3        Y\n",
            "4        Y\n",
            "        ..\n",
            "69995    N\n",
            "69996    Y\n",
            "69997    Y\n",
            "69998    N\n",
            "69999    N\n",
            "Name: Swelling (Edema), Length: 70000, dtype: object\n"
          ]
        }
      ]
    },
    {
      "cell_type": "code",
      "source": [
        "df['Pain in Neck/Jaw/Shoulder/Back'] = df['Pain in Neck/Jaw/Shoulder/Back'].map({0: 'N', 1: 'Y'})\n",
        "print(df['Pain in Neck/Jaw/Shoulder/Back'])"
      ],
      "metadata": {
        "id": "wRSpXViXxLL-",
        "outputId": "75a814cf-5b2f-4dee-f461-48819ad57340",
        "colab": {
          "base_uri": "https://localhost:8080/"
        }
      },
      "execution_count": 18,
      "outputs": [
        {
          "output_type": "stream",
          "name": "stdout",
          "text": [
            "0        N\n",
            "1        N\n",
            "2        N\n",
            "3        Y\n",
            "4        N\n",
            "        ..\n",
            "69995    N\n",
            "69996    N\n",
            "69997    N\n",
            "69998    N\n",
            "69999    N\n",
            "Name: Pain in Neck/Jaw/Shoulder/Back, Length: 70000, dtype: object\n"
          ]
        }
      ]
    },
    {
      "cell_type": "code",
      "source": [
        "df['Excessive Sweating'] = df['Excessive Sweating'].map({0: 'N', 1: 'Y'})\n",
        "print(df['Excessive Sweating'])"
      ],
      "metadata": {
        "id": "waH70gdSxMu4",
        "outputId": "d79009ee-bda5-4051-b3b9-6db5624761b6",
        "colab": {
          "base_uri": "https://localhost:8080/"
        }
      },
      "execution_count": 19,
      "outputs": [
        {
          "output_type": "stream",
          "name": "stdout",
          "text": [
            "0        Y\n",
            "1        N\n",
            "2        N\n",
            "3        Y\n",
            "4        Y\n",
            "        ..\n",
            "69995    Y\n",
            "69996    Y\n",
            "69997    N\n",
            "69998    N\n",
            "69999    Y\n",
            "Name: Excessive Sweating, Length: 70000, dtype: object\n"
          ]
        }
      ]
    },
    {
      "cell_type": "code",
      "source": [
        "df['Persistent Cough'] = df['Persistent Cough'].map({0: 'N', 1: 'Y'})\n",
        "print(df['Persistent Cough'])"
      ],
      "metadata": {
        "id": "Xw7fxYMwxM6S",
        "outputId": "ac109200-5dc7-487b-abb3-2c2861b7f141",
        "colab": {
          "base_uri": "https://localhost:8080/"
        }
      },
      "execution_count": 20,
      "outputs": [
        {
          "output_type": "stream",
          "name": "stdout",
          "text": [
            "0        Y\n",
            "1        N\n",
            "2        Y\n",
            "3        Y\n",
            "4        N\n",
            "        ..\n",
            "69995    N\n",
            "69996    N\n",
            "69997    N\n",
            "69998    N\n",
            "69999    Y\n",
            "Name: Persistent Cough, Length: 70000, dtype: object\n"
          ]
        }
      ]
    },
    {
      "cell_type": "code",
      "source": [
        "df['Nausea/Vomiting'] = df['Nausea/Vomiting'].map({0: 'N', 1: 'Y'})\n",
        "print(df['Nausea/Vomiting'])"
      ],
      "metadata": {
        "id": "BhyEt3jbxNGy",
        "outputId": "03290b4c-7415-4dea-99c9-f3349d8d66f6",
        "colab": {
          "base_uri": "https://localhost:8080/"
        }
      },
      "execution_count": 21,
      "outputs": [
        {
          "output_type": "stream",
          "name": "stdout",
          "text": [
            "0        Y\n",
            "1        N\n",
            "2        N\n",
            "3        Y\n",
            "4        Y\n",
            "        ..\n",
            "69995    Y\n",
            "69996    N\n",
            "69997    N\n",
            "69998    N\n",
            "69999    Y\n",
            "Name: Nausea/Vomiting, Length: 70000, dtype: object\n"
          ]
        }
      ]
    },
    {
      "cell_type": "code",
      "source": [
        "df['High Blood Pressure'] = df['High Blood Pressure'].map({0: 'N', 1: 'Y'})\n",
        "print(df['High Blood Pressure'])"
      ],
      "metadata": {
        "id": "IbAt5GdLxNS8",
        "outputId": "561479e0-db78-4910-b763-87ba077d5306",
        "colab": {
          "base_uri": "https://localhost:8080/"
        }
      },
      "execution_count": 22,
      "outputs": [
        {
          "output_type": "stream",
          "name": "stdout",
          "text": [
            "0        N\n",
            "1        Y\n",
            "2        N\n",
            "3        Y\n",
            "4        Y\n",
            "        ..\n",
            "69995    Y\n",
            "69996    N\n",
            "69997    Y\n",
            "69998    N\n",
            "69999    Y\n",
            "Name: High Blood Pressure, Length: 70000, dtype: object\n"
          ]
        }
      ]
    },
    {
      "cell_type": "code",
      "source": [
        "df['Chest Discomfort (Activity)'] = df['Chest Discomfort (Activity)'].map({0: 'N', 1: 'Y'})\n",
        "print(df['Chest Discomfort (Activity)'])"
      ],
      "metadata": {
        "id": "jmjxw173xz_n",
        "outputId": "cc84157e-e6d5-42df-9702-3a82a1d525b9",
        "colab": {
          "base_uri": "https://localhost:8080/"
        }
      },
      "execution_count": 23,
      "outputs": [
        {
          "output_type": "stream",
          "name": "stdout",
          "text": [
            "0        Y\n",
            "1        N\n",
            "2        N\n",
            "3        N\n",
            "4        N\n",
            "        ..\n",
            "69995    Y\n",
            "69996    Y\n",
            "69997    N\n",
            "69998    Y\n",
            "69999    Y\n",
            "Name: Chest Discomfort (Activity), Length: 70000, dtype: object\n"
          ]
        }
      ]
    },
    {
      "cell_type": "code",
      "source": [
        "df['Cold Hands/Feet'] = df['Cold Hands/Feet'].map({0: 'N', 1: 'Y'})\n",
        "print(df['Cold Hands/Feet'])"
      ],
      "metadata": {
        "id": "zNtxT4Djx0MG",
        "outputId": "97ac7bc7-f667-4ef9-c3f0-6a527371cf4f",
        "colab": {
          "base_uri": "https://localhost:8080/"
        }
      },
      "execution_count": 24,
      "outputs": [
        {
          "output_type": "stream",
          "name": "stdout",
          "text": [
            "0        Y\n",
            "1        Y\n",
            "2        N\n",
            "3        N\n",
            "4        N\n",
            "        ..\n",
            "69995    N\n",
            "69996    Y\n",
            "69997    N\n",
            "69998    Y\n",
            "69999    N\n",
            "Name: Cold Hands/Feet, Length: 70000, dtype: object\n"
          ]
        }
      ]
    },
    {
      "cell_type": "code",
      "source": [
        "df['Snoring/Sleep Apnea'] = df['Snoring/Sleep Apnea'].map({0: 'N', 1: 'Y'})\n",
        "print(df['Snoring/Sleep Apnea'])"
      ],
      "metadata": {
        "id": "c8zz-mhxyCUy",
        "outputId": "ccae6e82-a1d5-4d0d-84c0-caf004185ccb",
        "colab": {
          "base_uri": "https://localhost:8080/"
        }
      },
      "execution_count": 25,
      "outputs": [
        {
          "output_type": "stream",
          "name": "stdout",
          "text": [
            "0        N\n",
            "1        Y\n",
            "2        Y\n",
            "3        N\n",
            "4        Y\n",
            "        ..\n",
            "69995    N\n",
            "69996    Y\n",
            "69997    N\n",
            "69998    Y\n",
            "69999    Y\n",
            "Name: Snoring/Sleep Apnea, Length: 70000, dtype: object\n"
          ]
        }
      ]
    },
    {
      "cell_type": "code",
      "source": [
        "df['Anxiety/Feeling of Doom'] = df['Anxiety/Feeling of Doom'].map({0: 'N', 1: 'Y'})\n",
        "print(df['Anxiety/Feeling of Doom'])"
      ],
      "metadata": {
        "id": "FLqX3gbHyCgy",
        "outputId": "7672f58c-104c-4e46-d902-4dd973f38c0e",
        "colab": {
          "base_uri": "https://localhost:8080/"
        }
      },
      "execution_count": 26,
      "outputs": [
        {
          "output_type": "stream",
          "name": "stdout",
          "text": [
            "0        N\n",
            "1        N\n",
            "2        N\n",
            "3        N\n",
            "4        Y\n",
            "        ..\n",
            "69995    Y\n",
            "69996    N\n",
            "69997    N\n",
            "69998    N\n",
            "69999    N\n",
            "Name: Anxiety/Feeling of Doom, Length: 70000, dtype: object\n"
          ]
        }
      ]
    },
    {
      "cell_type": "code",
      "source": [
        "df['At Risk (Binary)'] = df['At Risk (Binary)'].map({0: 'N', 1: 'Y'})\n",
        "print(df['At Risk (Binary)'])"
      ],
      "metadata": {
        "id": "8LkWu95gyJ-M",
        "outputId": "3d66ee65-80ac-44f2-af33-2f02fed91032",
        "colab": {
          "base_uri": "https://localhost:8080/"
        }
      },
      "execution_count": 27,
      "outputs": [
        {
          "output_type": "stream",
          "name": "stdout",
          "text": [
            "0        Y\n",
            "1        N\n",
            "2        Y\n",
            "3        Y\n",
            "4        Y\n",
            "        ..\n",
            "69995    N\n",
            "69996    N\n",
            "69997    N\n",
            "69998    N\n",
            "69999    Y\n",
            "Name: At Risk (Binary), Length: 70000, dtype: object\n"
          ]
        }
      ]
    },
    {
      "cell_type": "code",
      "source": [
        "#Describe Age Column\n",
        "df['Age'].describe()"
      ],
      "metadata": {
        "id": "WcFFdCdU0nwV",
        "outputId": "47dbb02a-a774-4189-d44b-b97d1b059ea3",
        "colab": {
          "base_uri": "https://localhost:8080/",
          "height": 335
        }
      },
      "execution_count": 28,
      "outputs": [
        {
          "output_type": "execute_result",
          "data": {
            "text/plain": [
              "count    70000.000000\n",
              "mean        54.056429\n",
              "std         21.071567\n",
              "min         18.000000\n",
              "25%         36.000000\n",
              "50%         54.000000\n",
              "75%         72.000000\n",
              "max         90.000000\n",
              "Name: Age, dtype: float64"
            ],
            "text/html": [
              "<div>\n",
              "<style scoped>\n",
              "    .dataframe tbody tr th:only-of-type {\n",
              "        vertical-align: middle;\n",
              "    }\n",
              "\n",
              "    .dataframe tbody tr th {\n",
              "        vertical-align: top;\n",
              "    }\n",
              "\n",
              "    .dataframe thead th {\n",
              "        text-align: right;\n",
              "    }\n",
              "</style>\n",
              "<table border=\"1\" class=\"dataframe\">\n",
              "  <thead>\n",
              "    <tr style=\"text-align: right;\">\n",
              "      <th></th>\n",
              "      <th>Age</th>\n",
              "    </tr>\n",
              "  </thead>\n",
              "  <tbody>\n",
              "    <tr>\n",
              "      <th>count</th>\n",
              "      <td>70000.000000</td>\n",
              "    </tr>\n",
              "    <tr>\n",
              "      <th>mean</th>\n",
              "      <td>54.056429</td>\n",
              "    </tr>\n",
              "    <tr>\n",
              "      <th>std</th>\n",
              "      <td>21.071567</td>\n",
              "    </tr>\n",
              "    <tr>\n",
              "      <th>min</th>\n",
              "      <td>18.000000</td>\n",
              "    </tr>\n",
              "    <tr>\n",
              "      <th>25%</th>\n",
              "      <td>36.000000</td>\n",
              "    </tr>\n",
              "    <tr>\n",
              "      <th>50%</th>\n",
              "      <td>54.000000</td>\n",
              "    </tr>\n",
              "    <tr>\n",
              "      <th>75%</th>\n",
              "      <td>72.000000</td>\n",
              "    </tr>\n",
              "    <tr>\n",
              "      <th>max</th>\n",
              "      <td>90.000000</td>\n",
              "    </tr>\n",
              "  </tbody>\n",
              "</table>\n",
              "</div><br><label><b>dtype:</b> float64</label>"
            ]
          },
          "metadata": {},
          "execution_count": 28
        }
      ]
    },
    {
      "cell_type": "code",
      "source": [
        "#Crosstabulate Age and Stroke Risk\n",
        "pd.crosstab(df['Age'],df['At Risk (Binary)'])"
      ],
      "metadata": {
        "id": "EPVlV_R90oMe",
        "outputId": "fb247ca3-2f0b-480a-fc90-9b2925ce4ddb",
        "colab": {
          "base_uri": "https://localhost:8080/",
          "height": 455
        }
      },
      "execution_count": 29,
      "outputs": [
        {
          "output_type": "execute_result",
          "data": {
            "text/plain": [
              "At Risk (Binary)    N     Y\n",
              "Age                        \n",
              "18                782   143\n",
              "19                814   161\n",
              "20                795   138\n",
              "21                779   172\n",
              "22                775   117\n",
              "..                ...   ...\n",
              "86                 18   934\n",
              "87                 15   936\n",
              "88                  3  1015\n",
              "89                  0   993\n",
              "90                  2   937\n",
              "\n",
              "[73 rows x 2 columns]"
            ],
            "text/html": [
              "\n",
              "  <div id=\"df-719ee65b-4aad-46a8-8cc2-c5e191fa334f\" class=\"colab-df-container\">\n",
              "    <div>\n",
              "<style scoped>\n",
              "    .dataframe tbody tr th:only-of-type {\n",
              "        vertical-align: middle;\n",
              "    }\n",
              "\n",
              "    .dataframe tbody tr th {\n",
              "        vertical-align: top;\n",
              "    }\n",
              "\n",
              "    .dataframe thead th {\n",
              "        text-align: right;\n",
              "    }\n",
              "</style>\n",
              "<table border=\"1\" class=\"dataframe\">\n",
              "  <thead>\n",
              "    <tr style=\"text-align: right;\">\n",
              "      <th>At Risk (Binary)</th>\n",
              "      <th>N</th>\n",
              "      <th>Y</th>\n",
              "    </tr>\n",
              "    <tr>\n",
              "      <th>Age</th>\n",
              "      <th></th>\n",
              "      <th></th>\n",
              "    </tr>\n",
              "  </thead>\n",
              "  <tbody>\n",
              "    <tr>\n",
              "      <th>18</th>\n",
              "      <td>782</td>\n",
              "      <td>143</td>\n",
              "    </tr>\n",
              "    <tr>\n",
              "      <th>19</th>\n",
              "      <td>814</td>\n",
              "      <td>161</td>\n",
              "    </tr>\n",
              "    <tr>\n",
              "      <th>20</th>\n",
              "      <td>795</td>\n",
              "      <td>138</td>\n",
              "    </tr>\n",
              "    <tr>\n",
              "      <th>21</th>\n",
              "      <td>779</td>\n",
              "      <td>172</td>\n",
              "    </tr>\n",
              "    <tr>\n",
              "      <th>22</th>\n",
              "      <td>775</td>\n",
              "      <td>117</td>\n",
              "    </tr>\n",
              "    <tr>\n",
              "      <th>...</th>\n",
              "      <td>...</td>\n",
              "      <td>...</td>\n",
              "    </tr>\n",
              "    <tr>\n",
              "      <th>86</th>\n",
              "      <td>18</td>\n",
              "      <td>934</td>\n",
              "    </tr>\n",
              "    <tr>\n",
              "      <th>87</th>\n",
              "      <td>15</td>\n",
              "      <td>936</td>\n",
              "    </tr>\n",
              "    <tr>\n",
              "      <th>88</th>\n",
              "      <td>3</td>\n",
              "      <td>1015</td>\n",
              "    </tr>\n",
              "    <tr>\n",
              "      <th>89</th>\n",
              "      <td>0</td>\n",
              "      <td>993</td>\n",
              "    </tr>\n",
              "    <tr>\n",
              "      <th>90</th>\n",
              "      <td>2</td>\n",
              "      <td>937</td>\n",
              "    </tr>\n",
              "  </tbody>\n",
              "</table>\n",
              "<p>73 rows × 2 columns</p>\n",
              "</div>\n",
              "    <div class=\"colab-df-buttons\">\n",
              "\n",
              "  <div class=\"colab-df-container\">\n",
              "    <button class=\"colab-df-convert\" onclick=\"convertToInteractive('df-719ee65b-4aad-46a8-8cc2-c5e191fa334f')\"\n",
              "            title=\"Convert this dataframe to an interactive table.\"\n",
              "            style=\"display:none;\">\n",
              "\n",
              "  <svg xmlns=\"http://www.w3.org/2000/svg\" height=\"24px\" viewBox=\"0 -960 960 960\">\n",
              "    <path d=\"M120-120v-720h720v720H120Zm60-500h600v-160H180v160Zm220 220h160v-160H400v160Zm0 220h160v-160H400v160ZM180-400h160v-160H180v160Zm440 0h160v-160H620v160ZM180-180h160v-160H180v160Zm440 0h160v-160H620v160Z\"/>\n",
              "  </svg>\n",
              "    </button>\n",
              "\n",
              "  <style>\n",
              "    .colab-df-container {\n",
              "      display:flex;\n",
              "      gap: 12px;\n",
              "    }\n",
              "\n",
              "    .colab-df-convert {\n",
              "      background-color: #E8F0FE;\n",
              "      border: none;\n",
              "      border-radius: 50%;\n",
              "      cursor: pointer;\n",
              "      display: none;\n",
              "      fill: #1967D2;\n",
              "      height: 32px;\n",
              "      padding: 0 0 0 0;\n",
              "      width: 32px;\n",
              "    }\n",
              "\n",
              "    .colab-df-convert:hover {\n",
              "      background-color: #E2EBFA;\n",
              "      box-shadow: 0px 1px 2px rgba(60, 64, 67, 0.3), 0px 1px 3px 1px rgba(60, 64, 67, 0.15);\n",
              "      fill: #174EA6;\n",
              "    }\n",
              "\n",
              "    .colab-df-buttons div {\n",
              "      margin-bottom: 4px;\n",
              "    }\n",
              "\n",
              "    [theme=dark] .colab-df-convert {\n",
              "      background-color: #3B4455;\n",
              "      fill: #D2E3FC;\n",
              "    }\n",
              "\n",
              "    [theme=dark] .colab-df-convert:hover {\n",
              "      background-color: #434B5C;\n",
              "      box-shadow: 0px 1px 3px 1px rgba(0, 0, 0, 0.15);\n",
              "      filter: drop-shadow(0px 1px 2px rgba(0, 0, 0, 0.3));\n",
              "      fill: #FFFFFF;\n",
              "    }\n",
              "  </style>\n",
              "\n",
              "    <script>\n",
              "      const buttonEl =\n",
              "        document.querySelector('#df-719ee65b-4aad-46a8-8cc2-c5e191fa334f button.colab-df-convert');\n",
              "      buttonEl.style.display =\n",
              "        google.colab.kernel.accessAllowed ? 'block' : 'none';\n",
              "\n",
              "      async function convertToInteractive(key) {\n",
              "        const element = document.querySelector('#df-719ee65b-4aad-46a8-8cc2-c5e191fa334f');\n",
              "        const dataTable =\n",
              "          await google.colab.kernel.invokeFunction('convertToInteractive',\n",
              "                                                    [key], {});\n",
              "        if (!dataTable) return;\n",
              "\n",
              "        const docLinkHtml = 'Like what you see? Visit the ' +\n",
              "          '<a target=\"_blank\" href=https://colab.research.google.com/notebooks/data_table.ipynb>data table notebook</a>'\n",
              "          + ' to learn more about interactive tables.';\n",
              "        element.innerHTML = '';\n",
              "        dataTable['output_type'] = 'display_data';\n",
              "        await google.colab.output.renderOutput(dataTable, element);\n",
              "        const docLink = document.createElement('div');\n",
              "        docLink.innerHTML = docLinkHtml;\n",
              "        element.appendChild(docLink);\n",
              "      }\n",
              "    </script>\n",
              "  </div>\n",
              "\n",
              "\n",
              "<div id=\"df-7752b5bb-236f-41ce-a1f6-6529bca0e640\">\n",
              "  <button class=\"colab-df-quickchart\" onclick=\"quickchart('df-7752b5bb-236f-41ce-a1f6-6529bca0e640')\"\n",
              "            title=\"Suggest charts\"\n",
              "            style=\"display:none;\">\n",
              "\n",
              "<svg xmlns=\"http://www.w3.org/2000/svg\" height=\"24px\"viewBox=\"0 0 24 24\"\n",
              "     width=\"24px\">\n",
              "    <g>\n",
              "        <path d=\"M19 3H5c-1.1 0-2 .9-2 2v14c0 1.1.9 2 2 2h14c1.1 0 2-.9 2-2V5c0-1.1-.9-2-2-2zM9 17H7v-7h2v7zm4 0h-2V7h2v10zm4 0h-2v-4h2v4z\"/>\n",
              "    </g>\n",
              "</svg>\n",
              "  </button>\n",
              "\n",
              "<style>\n",
              "  .colab-df-quickchart {\n",
              "      --bg-color: #E8F0FE;\n",
              "      --fill-color: #1967D2;\n",
              "      --hover-bg-color: #E2EBFA;\n",
              "      --hover-fill-color: #174EA6;\n",
              "      --disabled-fill-color: #AAA;\n",
              "      --disabled-bg-color: #DDD;\n",
              "  }\n",
              "\n",
              "  [theme=dark] .colab-df-quickchart {\n",
              "      --bg-color: #3B4455;\n",
              "      --fill-color: #D2E3FC;\n",
              "      --hover-bg-color: #434B5C;\n",
              "      --hover-fill-color: #FFFFFF;\n",
              "      --disabled-bg-color: #3B4455;\n",
              "      --disabled-fill-color: #666;\n",
              "  }\n",
              "\n",
              "  .colab-df-quickchart {\n",
              "    background-color: var(--bg-color);\n",
              "    border: none;\n",
              "    border-radius: 50%;\n",
              "    cursor: pointer;\n",
              "    display: none;\n",
              "    fill: var(--fill-color);\n",
              "    height: 32px;\n",
              "    padding: 0;\n",
              "    width: 32px;\n",
              "  }\n",
              "\n",
              "  .colab-df-quickchart:hover {\n",
              "    background-color: var(--hover-bg-color);\n",
              "    box-shadow: 0 1px 2px rgba(60, 64, 67, 0.3), 0 1px 3px 1px rgba(60, 64, 67, 0.15);\n",
              "    fill: var(--button-hover-fill-color);\n",
              "  }\n",
              "\n",
              "  .colab-df-quickchart-complete:disabled,\n",
              "  .colab-df-quickchart-complete:disabled:hover {\n",
              "    background-color: var(--disabled-bg-color);\n",
              "    fill: var(--disabled-fill-color);\n",
              "    box-shadow: none;\n",
              "  }\n",
              "\n",
              "  .colab-df-spinner {\n",
              "    border: 2px solid var(--fill-color);\n",
              "    border-color: transparent;\n",
              "    border-bottom-color: var(--fill-color);\n",
              "    animation:\n",
              "      spin 1s steps(1) infinite;\n",
              "  }\n",
              "\n",
              "  @keyframes spin {\n",
              "    0% {\n",
              "      border-color: transparent;\n",
              "      border-bottom-color: var(--fill-color);\n",
              "      border-left-color: var(--fill-color);\n",
              "    }\n",
              "    20% {\n",
              "      border-color: transparent;\n",
              "      border-left-color: var(--fill-color);\n",
              "      border-top-color: var(--fill-color);\n",
              "    }\n",
              "    30% {\n",
              "      border-color: transparent;\n",
              "      border-left-color: var(--fill-color);\n",
              "      border-top-color: var(--fill-color);\n",
              "      border-right-color: var(--fill-color);\n",
              "    }\n",
              "    40% {\n",
              "      border-color: transparent;\n",
              "      border-right-color: var(--fill-color);\n",
              "      border-top-color: var(--fill-color);\n",
              "    }\n",
              "    60% {\n",
              "      border-color: transparent;\n",
              "      border-right-color: var(--fill-color);\n",
              "    }\n",
              "    80% {\n",
              "      border-color: transparent;\n",
              "      border-right-color: var(--fill-color);\n",
              "      border-bottom-color: var(--fill-color);\n",
              "    }\n",
              "    90% {\n",
              "      border-color: transparent;\n",
              "      border-bottom-color: var(--fill-color);\n",
              "    }\n",
              "  }\n",
              "</style>\n",
              "\n",
              "  <script>\n",
              "    async function quickchart(key) {\n",
              "      const quickchartButtonEl =\n",
              "        document.querySelector('#' + key + ' button');\n",
              "      quickchartButtonEl.disabled = true;  // To prevent multiple clicks.\n",
              "      quickchartButtonEl.classList.add('colab-df-spinner');\n",
              "      try {\n",
              "        const charts = await google.colab.kernel.invokeFunction(\n",
              "            'suggestCharts', [key], {});\n",
              "      } catch (error) {\n",
              "        console.error('Error during call to suggestCharts:', error);\n",
              "      }\n",
              "      quickchartButtonEl.classList.remove('colab-df-spinner');\n",
              "      quickchartButtonEl.classList.add('colab-df-quickchart-complete');\n",
              "    }\n",
              "    (() => {\n",
              "      let quickchartButtonEl =\n",
              "        document.querySelector('#df-7752b5bb-236f-41ce-a1f6-6529bca0e640 button');\n",
              "      quickchartButtonEl.style.display =\n",
              "        google.colab.kernel.accessAllowed ? 'block' : 'none';\n",
              "    })();\n",
              "  </script>\n",
              "</div>\n",
              "\n",
              "    </div>\n",
              "  </div>\n"
            ],
            "application/vnd.google.colaboratory.intrinsic+json": {
              "type": "dataframe",
              "summary": "{\n  \"name\": \"pd\",\n  \"rows\": 73,\n  \"fields\": [\n    {\n      \"column\": \"Age\",\n      \"properties\": {\n        \"dtype\": \"number\",\n        \"std\": 21,\n        \"min\": 18,\n        \"max\": 90,\n        \"num_unique_values\": 73,\n        \"samples\": [\n          22,\n          81,\n          36\n        ],\n        \"semantic_type\": \"\",\n        \"description\": \"\"\n      }\n    },\n    {\n      \"column\": \"N\",\n      \"properties\": {\n        \"dtype\": \"number\",\n        \"std\": 290,\n        \"min\": 0,\n        \"max\": 853,\n        \"num_unique_values\": 68,\n        \"samples\": [\n          137,\n          651,\n          775\n        ],\n        \"semantic_type\": \"\",\n        \"description\": \"\"\n      }\n    },\n    {\n      \"column\": \"Y\",\n      \"properties\": {\n        \"dtype\": \"number\",\n        \"std\": 293,\n        \"min\": 117,\n        \"max\": 1015,\n        \"num_unique_values\": 69,\n        \"samples\": [\n          485,\n          143,\n          813\n        ],\n        \"semantic_type\": \"\",\n        \"description\": \"\"\n      }\n    }\n  ]\n}"
            }
          },
          "metadata": {},
          "execution_count": 29
        }
      ]
    },
    {
      "cell_type": "code",
      "source": [
        "#Scatterplot of Age and Stroke Risk\n",
        "sns.scatterplot(data=df,x='Age',y='Stroke Risk (%)')\n",
        "plt.show()"
      ],
      "metadata": {
        "id": "zg0wtXTS1H5I",
        "outputId": "2c714e8b-4703-4a68-c4eb-fac9e1165675",
        "colab": {
          "base_uri": "https://localhost:8080/",
          "height": 449
        }
      },
      "execution_count": 32,
      "outputs": [
        {
          "output_type": "display_data",
          "data": {
            "text/plain": [
              "<Figure size 640x480 with 1 Axes>"
            ],
            "image/png": "[encoded data removed]"
          },
          "metadata": {}
        }
      ]
    }
  ]
}